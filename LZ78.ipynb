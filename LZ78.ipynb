{
 "cells": [
  {
   "cell_type": "markdown",
   "metadata": {
    "slideshow": {
     "slide_type": "slide"
    }
   },
   "source": [
    "# LZ78 [[Ziv and Lempel, 1978]](https://scholar.google.es/scholar?hl=es&as_sdt=0%2C5&q=Ziv+Lempel+1978&btnG=)\n",
    "\n",
    "* In 1978, Ziv and Lempel published the [LZ78 algorithm](https://en.wikipedia.org/wiki/LZ77_and_LZ78).\n",
    "\n",
    "* LZ78 represents the dictionary in a recursive way with the idea\n",
    "  of reducing the memory used for representing the strings in the dictionary. Now, each\n",
    "  entry in the dictionary is a pair $wk$, where $w$ is an index to\n",
    "  an entry of the dictionary and $k$ is a symbol. In fact, each pair $wk$\n",
    "  represents the string that results from the concatenation of the string\n",
    "  $w$ and the symbol $k$, where $w$ can be recursively computed in the same way\n",
    "  we have found $wk$.\n",
    "  \n",
    "* We will denote the string that $w$ represents by *string*$(w)$.\n",
    "  \n",
    "* The empty string is obtained by *string*$(0)$."
   ]
  },
  {
   "cell_type": "markdown",
   "metadata": {
    "slideshow": {
     "slide_type": "subslide"
    }
   },
   "source": [
    "## Encoder\n",
    "\n",
    "1. $w\\leftarrow 0$.\n",
    "2. While the input is not exhausted:\n",
    "    1. $k\\leftarrow$ next input symbol.\n",
    "    2. If $wk$ is found in the dictionary, then:\n",
    "        1. $w\\leftarrow$ address of $wk$ in the dictionary.\n",
    "    3. Else:\n",
    "        1. Output $wk$.\n",
    "        2. Insert $wk$ in the dictionary.\n",
    "        3. $w\\leftarrow 0$."
   ]
  },
  {
   "cell_type": "markdown",
   "metadata": {
    "slideshow": {
     "slide_type": "subslide"
    }
   },
   "source": [
    "## Example\n",
    "<img src=\"data/LZ78_encoding_example.png\" width=\"700\">"
   ]
  },
  {
   "cell_type": "markdown",
   "metadata": {
    "slideshow": {
     "slide_type": "subslide"
    }
   },
   "source": [
    "## Decoder\n",
    "\n",
    "1. While the input is not exhausted:\n",
    "    1. Input $wk$.\n",
    "    2. Output $\\text{string}(w)$.\n",
    "    3. Output $k$.\n",
    "    4. Insert $wk$ in the dictionary."
   ]
  },
  {
   "cell_type": "markdown",
   "metadata": {
    "slideshow": {
     "slide_type": "subslide"
    }
   },
   "source": [
    "## Example\n",
    "<img src=\"data/LZ78_decoding_example.png\" width=\"600\">"
   ]
  },
  {
   "cell_type": "markdown",
   "metadata": {
    "slideshow": {
     "slide_type": "subslide"
    }
   },
   "source": [
    "## Lab"
   ]
  },
  {
   "cell_type": "code",
   "execution_count": 2,
   "metadata": {},
   "outputs": [
    {
     "name": "stdout",
     "output_type": "stream",
     "text": [
      "['H', 'o', 'l', 'a', ',', ' ', 's', 'o', 'y', ' ', 'C', 258, 'u', 'd', 'i', 'o', ' ', 264, 'e', 's', 't', 'e', ' ', 'a', 'l', 'g', 'o', 'r', 'i', 't', 'm', 271, 274, ' ', 'c', 282, 'r', 'e', 'c', 't', 'o', '.', 297]\n",
      "Hola, soy Claudio y este algoritmo es correcto...\n",
      "\n",
      "['A', 'A', 'B', 'B', 256, 257, 258, 260, 261, 262, 263, 258, 267, 257, 269]\n",
      "AABBAAABBBAAAABBBBAAAAABBBBBABABA\n",
      "\n",
      "['T', 'O', 'B', 'E', 'O', 'R', 'N', 'O', 'T', 256, 258, 260, 265, 259, 261, 263]\n",
      "TOBEORNOTTOBEORTOBEORNOT\n"
     ]
    }
   ],
   "source": [
    "import io\n",
    "\n",
    "def encoder(uncompressed):\n",
    "    \"\"\"Compress a string to a list of output symbols.\"\"\"\n",
    "\n",
    "    # Build the dictionary.\n",
    "    dict_size = 256\n",
    "    dictionary = {chr(i): chr(i) for i in range(dict_size)}\n",
    "\n",
    "    w = \"\"\n",
    "    result = []\n",
    "    for k in uncompressed:\n",
    "        wk = w + k\n",
    "        if wk in dictionary:\n",
    "            w = wk\n",
    "        else:\n",
    "            result.append(dictionary[w])\n",
    "            # Add wk to the dictionary.\n",
    "            dictionary[wk] = dict_size\n",
    "            dict_size += 1\n",
    "            w = k\n",
    "\n",
    "    # Output the code for w.\n",
    "    if w:\n",
    "        result.append(dictionary[w])\n",
    "    return result\n",
    "\n",
    "\n",
    "def decoder(compressed):\n",
    "    \"\"\"Decompress a list of output ks to a string.\"\"\"\n",
    "\n",
    "    # Build the dictionary.\n",
    "    dict_size = 256\n",
    "    dictionary = {chr(i): chr(i) for i in range(dict_size)}\n",
    "\n",
    "    # use io.StringIO(), otherwise this becomes O(N^2)\n",
    "    # due to string concatenation in a loop\n",
    "    result = io.StringIO()\n",
    "    w = compressed.pop(0)\n",
    "    result.write(w)\n",
    "    for k in compressed:\n",
    "        if k in dictionary:\n",
    "            entry = dictionary[k]\n",
    "        elif k == dict_size:\n",
    "            entry = w + w[0]\n",
    "        else:\n",
    "            raise ValueError('Bad compressed k: %s' % k)\n",
    "        result.write(entry)\n",
    "\n",
    "        # Add w+entry[0] to the dictionary.\n",
    "        dictionary[dict_size] = w + entry[0]\n",
    "        dict_size += 1\n",
    "\n",
    "        w = entry\n",
    "    return result.getvalue()\n",
    "\n",
    "\n",
    "# Testing the algorithm\n",
    "cadena = \"Hola, soy Claudio y este algoritmo es correcto...\"\n",
    "compressed = encoder(cadena)\n",
    "print (compressed)\n",
    "decompressed = decoder(compressed)\n",
    "print (decompressed)\n",
    "\n",
    "print()\n",
    "\n",
    "# Chains in which we can see this algorithm compresses much more\n",
    "cadena = \"AABBAAABBBAAAABBBBAAAAABBBBBABABA\"\n",
    "compressed = encoder(cadena)\n",
    "print (compressed)\n",
    "decompressed = decoder(compressed)\n",
    "print (decompressed)\n",
    "\n",
    "print()\n",
    "\n",
    "# Another example\n",
    "cadena = \"TOBEORNOTTOBEORTOBEORNOT\"\n",
    "compressed = encoder(cadena)\n",
    "print (compressed)\n",
    "decompressed = decoder(compressed)\n",
    "print (decompressed)"
   ]
  }
 ],
 "metadata": {
  "celltoolbar": "Slideshow",
  "kernelspec": {
   "display_name": "Python 3",
   "language": "python",
   "name": "python3"
  },
  "language_info": {
   "codemirror_mode": {
    "name": "ipython",
    "version": 3
   },
   "file_extension": ".py",
   "mimetype": "text/x-python",
   "name": "python",
   "nbconvert_exporter": "python",
   "pygments_lexer": "ipython3",
   "version": "3.6.3"
  }
 },
 "nbformat": 4,
 "nbformat_minor": 1
}
